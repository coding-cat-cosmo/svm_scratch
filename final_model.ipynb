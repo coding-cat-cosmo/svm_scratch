{
 "cells": [
  {
   "cell_type": "code",
   "execution_count": 1,
   "id": "bb8a9e58-42bd-4a31-8018-432374521f53",
   "metadata": {},
   "outputs": [],
   "source": [
    "import pandas as pd\n",
    "import numpy as np\n",
    "import scipy\n",
    "import matplotlib.pyplot as plt \n",
    "import time"
   ]
  },
  {
   "cell_type": "code",
   "execution_count": 10,
   "id": "8bbc82a8-99ba-470d-a2b8-4016a3a13ab0",
   "metadata": {},
   "outputs": [],
   "source": [
    "class SVM: #this classifier is based on a form like f(x) = w^Tx + b \n",
    "    def __init__(self, C=1, limit=100000):\n",
    "        self.kernel = lambda x,y: np.matmul(x, y.T)\n",
    "        self.C = C #penalty associated to when instance is incorrectly classified or violates max margin\n",
    "        self.limit = limit #iterations that the fit function loops over to minimize the cost function\n",
    "        \n",
    "    def fit(self, x, y):\n",
    "        self.y = (y * 2) - 1 #keeps 1s as 1s and 0s as -1 to follow logic of support vector machine\n",
    "        self.ws = np.zeros_like(self.y, dtype=float) #these are the alphas that act as weights multiplied with the inner product(kernel) of the input data\n",
    "        self.x = x.copy() #copy data to not corrupt it in memory\n",
    "        k = self.kernel(self.x, self.x) * self.y[:,np.newaxis] * self.y #this is the actual form of the x used in the w^Tx + b equation and is a substitute for inner product as the kernel\n",
    "    \n",
    "        for _ in range(self.limit): #max times optimization is run\n",
    "            for i in range(len(self.ws)): #goes through all of the xs so row of data\n",
    "                j = np.random.randint(0, len(self.ws)) #each itertion gets a random pair value as the other one to compare to\n",
    "                a = [i, j]\n",
    "                p = [i, i]\n",
    "                q = [j, j]\n",
    "                m = [p, q]\n",
    "                n = [a, a]\n",
    "                r = 1 - np.sum(self.ws * k[a], axis=1) #1\n",
    "                S = k[m, n] #2\n",
    "                u = self.ws[a] #3\n",
    "                d = [-self.y[j], self.y[i]] #4\n",
    "                v = np.array(d) #4\n",
    "                z = 2 * np.matmul(r, v) / (np.matmul(np.matmul(S, v), v) + 1E-10) #5 the + 1E-10 is to make sure the bottom doesn't accidently round to 0 and turn z into nan\n",
    "                z = u + v * ((np.clip(u + z*v, 0, self.C) - u)[1]/v[1]) #we want ws bounded by C so things outside get clipped off for both alpha_i and aplha_j hence the two clip lines\n",
    "                self.ws[a] = u + v * ((np.clip(u + z*v, 0, self.C) - u)[0]/v[0]) #6\n",
    "    \n",
    "        idx, = np.nonzero(self.ws)\n",
    "        self.b = np.mean((1.0 - np.sum(k[idx] * self.ws, axis=1)) * self.y[idx]) #b is threshold used to adhere to KKT mainly used to help predict #7\n",
    "\n",
    "    def predict(self, x):\n",
    "        func = lambda x: np.sum(self.kernel(x, self.x) * self.y * self.ws, axis=1) + self.b #decision chooses y = 1 for f(x) > 0 and y = -1 for f(x) < 0 and is 7 without known labels #8\n",
    "        return np.heaviside(func(x), 1)  #basically gets the sign of decision meaning if its -1 or 1 and then sends it back as the predicted y"
   ]
  },
  {
   "cell_type": "markdown",
   "id": "6284c49a-505c-49db-94f8-5a3ef3831041",
   "metadata": {},
   "source": [
    "<div class=\"answer\">\n",
    "    \n",
    "These are the equations used in the Support Vector Machine Algorithm\n",
    "    \n",
    "\n",
    "1. $r = (1 - w^T*\\alpha_i, 1-w^T*\\alpha_j)^2$\n",
    "\n",
    "\n",
    "2. $\n",
    "  S = \\begin{bmatrix}\n",
    "    \\alpha_{ii} & \\alpha_{ij}\\\\ \n",
    "    \\alpha_{ji} & \\alpha_{jj}\n",
    "  \\end{bmatrix}\n",
    "$\n",
    "   \n",
    "\n",
    "3. $u = (w_i, w_j)^2$\n",
    "    \n",
    "\n",
    "4. $v = (-y_i, y_j)^T$\n",
    "\n",
    "5. $z = \\frac{2*r^Tv}{v^TSv}$ which comes from the loss function set to 0\n",
    "\n",
    "6. $(w_i, w_j)^T = v + z*u$\n",
    "\n",
    "7. $b = E_k[y_k -  \\sum_a w_a*y_a(x_a*x_k) | w_k > 0]$\n",
    "    \n",
    "8. $f(x) = \\sum_a w_a*y_a(x_a*x) + b$\n",
    "    \n",
    "Loss function $L = r^Tv + \\frac{1}{2}v^TSv$ to get optimization sets equal to 0, $0 = r^Tv + \\frac{1}{2}v^TSv$, making $r^Tv = \\frac{1}{2}v^TSv$ so $z = \\frac{2r^Tv}{v^TSv}$ \n",
    "</div>"
   ]
  },
  {
   "cell_type": "code",
   "execution_count": 4,
   "id": "17360f55-cc48-45d7-88b5-4344535a8c0c",
   "metadata": {},
   "outputs": [
    {
     "name": "stdout",
     "output_type": "stream",
     "text": [
      "f1 score:  0.6091370558375635\n",
      "Execution time in seconds: 2427.1538445949554\n"
     ]
    }
   ],
   "source": [
    "startTime = time.time()\n",
    "df = pd.read_csv(\"diabetes.csv\")\n",
    "df = df.reindex(np.random.permutation(df.index))\n",
    "df = df.reset_index(drop=True)  \n",
    "#df\n",
    "#creating the folds for k fold cross validation by splitting up data into three\n",
    "fold1 = df.loc[0:255]                                            \n",
    "fold2 = df.loc[256:511]\n",
    "fold3 = df.loc[512:]\n",
    "train1 = pd.concat([fold1, fold2])\n",
    "test1 = fold3\n",
    "trainx1 = np.array(train1[[\"Pregnancies\", \"Glucose\", \"SkinThickness\", \"Insulin\", \"BMI\", \"DiabetesPedigreeFunction\", \"Age\"]])\n",
    "trainy1 = np.array(train1[\"Outcome\"])\n",
    "testx1 = np.array(test1[[\"Pregnancies\", \"Glucose\", \"SkinThickness\", \"Insulin\", \"BMI\", \"DiabetesPedigreeFunction\", \"Age\"]])\n",
    "testy1 = np.array(test1[\"Outcome\"])\n",
    "#clf = SVM(kernel='rbf')\n",
    "clf = SVM()\n",
    "clf.fit(trainx1, trainy1)\n",
    "predy1 = clf.predict(testx1)\n",
    "#acc1 = np.count_nonzero(testy1 == predy1) / len(testy1)\n",
    "#print(\"Accuracy 1:\", acc1)\n",
    "tp = np.sum((testy1 == 1) & (predy1 == 1))\n",
    "tn = np.sum((testy1 == 0) & (predy1 == 0))\n",
    "fn = np.sum((testy1 == 1) & (predy1 == 0))\n",
    "fp = np.sum((testy1 == 0) & (predy1 == 1))\n",
    "precision = (tp  * 100) / float(tp + fp) / 100\n",
    "recall = (tp  * 100) / float(tp + fn) / 100\n",
    "f1 = (2*precision*recall) / (precision + recall)\n",
    "print(\"f1 score: \", f1) \n",
    "executionTime = (time.time() - startTime)\n",
    "print('Execution time in seconds: ' + str(executionTime))"
   ]
  },
  {
   "cell_type": "code",
   "execution_count": 3,
   "id": "9c1bf4f7-6d64-4dc3-bded-5bba73d12456",
   "metadata": {},
   "outputs": [
    {
     "name": "stdout",
     "output_type": "stream",
     "text": [
      "f1 score 1:  0.6263736263736264\n",
      "f1 score:  0.49214659685863876\n",
      "f1 score:  0.6310160427807486\n",
      "Average f1 0.5831787553376713\n",
      "f1 score 1:  0.42162162162162165\n",
      "f1 score:  0.669683257918552\n",
      "f1 score:  0.4705882352941177\n",
      "Average f1 0.5206310382780971\n",
      "f1 score 1:  0.7035175879396985\n",
      "f1 score:  0.6494845360824744\n",
      "f1 score:  0.5921787709497207\n",
      "Average f1 0.6483936316572979\n",
      "f1 score 1:  0.6572769953051643\n",
      "f1 score:  0.44324324324324327\n",
      "f1 score:  0.5777777777777778\n",
      "Average f1 0.5594326721087285\n",
      "f1 score 1:  0.39743589743589747\n",
      "f1 score:  0.67\n",
      "f1 score:  0.5494505494505495\n",
      "Average f1 0.538962148962149\n",
      "f1 score 1:  0.5964912280701753\n",
      "f1 score:  0.6185567010309279\n",
      "f1 score:  0.6851851851851852\n",
      "Average f1 0.6334110380954295\n",
      "f1 score 1:  0.6974358974358974\n",
      "f1 score:  0.6256410256410256\n",
      "f1 score:  0.5524861878453038\n",
      "Average f1 0.6251877036407423\n",
      "f1 score 1:  0.44171779141104295\n",
      "f1 score:  0.4831460674157303\n",
      "f1 score:  0.430939226519337\n",
      "Average f1 0.4519343617820368\n",
      "avgs are:  [[0.01, 0.5831787553376713], [0.1, 0.5206310382780971], [1, 0.6483936316572979], [10, 0.5594326721087285], [100, 0.538962148962149], [1000, 0.6334110380954295], [100000, 0.6251877036407423], [1000000, 0.4519343617820368]]\n"
     ]
    }
   ],
   "source": [
    "#count = 5 #how many different hyperparameter values we are testing\n",
    "#default C for SVC is 1 so we will try 0.01 0.1 1 10 100 to see differences\n",
    "vals = [0.01, 0.1, 1, 10, 100, 1000, 100000, 1000000]\n",
    "avgs = []\n",
    "for i in range(len(vals)):\n",
    "    #reading in and randomizing the dataset\n",
    "    df = pd.read_csv(\"diabetes.csv\")\n",
    "    df = df.reindex(np.random.permutation(df.index))\n",
    "    df = df.reset_index(drop=True)  \n",
    "    #df\n",
    "    #creating the folds for k fold cross validation by splitting up data into three\n",
    "    fold1 = df.loc[0:255]                                            \n",
    "    fold2 = df.loc[256:511]\n",
    "    fold3 = df.loc[512:]\n",
    "    train1 = pd.concat([fold1, fold2])\n",
    "    test1 = fold3\n",
    "    trainx1 = np.array(train1[[\"Pregnancies\", \"Glucose\", \"SkinThickness\", \"Insulin\", \"BMI\", \"DiabetesPedigreeFunction\", \"Age\"]])\n",
    "    trainy1 = np.array(train1[\"Outcome\"])\n",
    "    testx1 = np.array(test1[[\"Pregnancies\", \"Glucose\", \"SkinThickness\", \"Insulin\", \"BMI\", \"DiabetesPedigreeFunction\", \"Age\"]])\n",
    "    testy1 = np.array(test1[\"Outcome\"])\n",
    "    train2 = pd.concat([fold1, fold3])\n",
    "    test2 = fold2\n",
    "    trainx2 = np.array(train2[[\"Pregnancies\", \"Glucose\", \"SkinThickness\", \"Insulin\", \"BMI\", \"DiabetesPedigreeFunction\", \"Age\"]])\n",
    "    trainy2 = np.array(train2[\"Outcome\"])\n",
    "    testx2 = np.array(test2[[\"Pregnancies\", \"Glucose\", \"SkinThickness\", \"Insulin\", \"BMI\", \"DiabetesPedigreeFunction\", \"Age\"]])\n",
    "    testy2 = np.array(test2[\"Outcome\"])\n",
    "    train3 = pd.concat([fold2, fold3])\n",
    "    test3 = fold1\n",
    "    trainx3 = np.array(train3[[\"Pregnancies\", \"Glucose\", \"SkinThickness\", \"Insulin\", \"BMI\", \"DiabetesPedigreeFunction\", \"Age\"]])\n",
    "    trainy3 = np.array(train3[\"Outcome\"])\n",
    "    testx3 = np.array(test3[[\"Pregnancies\", \"Glucose\", \"SkinThickness\", \"Insulin\", \"BMI\", \"DiabetesPedigreeFunction\", \"Age\"]])\n",
    "    testy3 = np.array(test3[\"Outcome\"])\n",
    "    #testing the Accuracy of each fold with one fold left out as test\n",
    "    clf = SVM(C=vals[i])\n",
    "    clf.fit(trainx1, trainy1)\n",
    "    predy1 = clf.predict(testx1)\n",
    "    tp = np.sum((testy1 == 1) & (predy1 == 1))\n",
    "    tn = np.sum((testy1 == 0) & (predy1 == 0))\n",
    "    fn = np.sum((testy1 == 1) & (predy1 == 0))\n",
    "    fp = np.sum((testy1 == 0) & (predy1 == 1))\n",
    "    precision = (tp  * 100) / float(tp + fp) / 100\n",
    "    recall = (tp  * 100) / float(tp + fn) / 100\n",
    "    f1one = (2*precision*recall) / (precision + recall)\n",
    "    print(\"f1 score 1: \", f1one) \n",
    "    clf = SVM(C=vals[i])\n",
    "    clf.fit(trainx2, trainy2)\n",
    "    predy2 = clf.predict(testx2)\n",
    "    tp = np.sum((testy2 == 1) & (predy2 == 1))\n",
    "    tn = np.sum((testy2 == 0) & (predy2 == 0))\n",
    "    fn = np.sum((testy2 == 1) & (predy2 == 0))\n",
    "    fp = np.sum((testy2 == 0) & (predy2 == 1))\n",
    "    precision = (tp  * 100) / float(tp + fp) / 100\n",
    "    recall = (tp  * 100) / float(tp + fn) / 100\n",
    "    f1two = (2*precision*recall) / (precision + recall)\n",
    "    print(\"f1 score: \", f1two) \n",
    "    clf = SVM(C=vals[i])\n",
    "    clf.fit(trainx3, trainy3)\n",
    "    predy3 = clf.predict(testx3)\n",
    "    tp = np.sum((testy3 == 1) & (predy3 == 1))\n",
    "    tn = np.sum((testy3 == 0) & (predy3 == 0))\n",
    "    fn = np.sum((testy3 == 1) & (predy3 == 0))\n",
    "    fp = np.sum((testy3 == 0) & (predy3 == 1))\n",
    "    precision = (tp  * 100) / float(tp + fp) / 100\n",
    "    recall = (tp  * 100) / float(tp + fn) / 100\n",
    "    f1three = (2*precision*recall) / (precision + recall)\n",
    "    print(\"f1 score: \", f1three)\n",
    "    avg = (f1one + f1two + f1three) / 3\n",
    "    print(\"Average f1\", avg)\n",
    "    avgs.append([vals[i], avg])\n",
    "    \n",
    "print(\"avgs are: \", avgs) "
   ]
  },
  {
   "cell_type": "code",
   "execution_count": 4,
   "id": "adf8f2b6-0b3c-42a3-ae06-b8eb1c8331b7",
   "metadata": {},
   "outputs": [
    {
     "name": "stdout",
     "output_type": "stream",
     "text": [
      "[[0.01, 0.5831787553376713], [0.1, 0.5206310382780971], [1, 0.6483936316572979], [10, 0.5594326721087285], [100, 0.538962148962149], [1000, 0.6334110380954295], [100000, 0.6251877036407423], [1000000, 0.4519343617820368]]\n",
      "[1.e-02 1.e-01 1.e+00 1.e+01 1.e+02 1.e+03 1.e+05 1.e+06]\n",
      "[0.58317876 0.52063104 0.64839363 0.55943267 0.53896215 0.63341104\n",
      " 0.6251877  0.45193436]\n"
     ]
    }
   ],
   "source": [
    "#avgs are:  [[0.01, 0.5831787553376713], [0.1, 0.5206310382780971], [1, 0.6483936316572979], [10, 0.5594326721087285], [100, 0.538962148962149], [1000, 0.6334110380954295], [100000, 0.6251877036407423], [1000000, 0.4519343617820368]]\n",
    "avgs = [[0.01, 0.5831787553376713], [0.1, 0.5206310382780971], [1, 0.6483936316572979], [10, 0.5594326721087285], [100, 0.538962148962149], [1000, 0.6334110380954295], [100000, 0.6251877036407423], [1000000, 0.4519343617820368]]\n",
    "print(avgs)\n",
    "avgs = np.array(avgs)\n",
    "x = avgs[:, 0]\n",
    "y = avgs[:, 1]\n",
    "print(x)\n",
    "print(y)"
   ]
  },
  {
   "cell_type": "code",
   "execution_count": 8,
   "id": "00af6822-8713-4630-b9a6-0a4387c19b1b",
   "metadata": {},
   "outputs": [
    {
     "data": {
      "image/png": "[encoded data removed]",
      "text/plain": [
       "<Figure size 432x288 with 1 Axes>"
      ]
     },
     "metadata": {
      "needs_background": "light"
     },
     "output_type": "display_data"
    }
   ],
   "source": [
    "x = ['0.01', '0.1', '1', '10', '100', '1000', '100000', '1000000']\n",
    "y = [0.5831787553376713, 0.5206310382780971, 0.6483936316572979, 0.5594326721087285, 0.5389621489621494, 0.6334110380954295, 0.6251877036407423, 0.4519343617820368]\n",
    "fig = plt.figure()\n",
    "ax = fig.add_axes([0,0,1,1])\n",
    "#fig = plt.figure(figsize = (10, 5))\n",
    "#plt.bar(x, y, color ='maroon', width = 0.4)\n",
    "#langs = ['C', 'C++', 'Java', 'Python', 'PHP']\n",
    "#students = [23,17,35,29,12]\n",
    "ax.set_xlabel('C parameter value')\n",
    "ax.set_ylabel('f1 score')\n",
    "ax.set_title('average C parameter effect on f1 score')\n",
    "ax.bar(x, y)\n",
    "plt.errorbar(x, y, yerr = err, fmt ='o')\n",
    "plt.show()"
   ]
  },
  {
   "cell_type": "code",
   "execution_count": 7,
   "id": "cf904126-f5f2-49d6-b83b-111a915511f1",
   "metadata": {},
   "outputs": [
    {
     "name": "stdout",
     "output_type": "stream",
     "text": [
      "[0.06439735199285783, 0.10727489749376808, 0.04546042672134814, 0.08833654937013108, 0.11152070782369662, 0.0377018390744994, 0.05917633932142312, 0.022504403890563754]\n"
     ]
    }
   ],
   "source": [
    "one = [0.6263736263736264, 0.49214659685863876, 0.6310160427807486]\n",
    "two = [0.42162162162162165, 0.669683257918552, 0.4705882352941177]\n",
    "three = [0.7035175879396985, 0.6494845360824744, 0.5921787709497207]\n",
    "four = [0.6572769953051643, 0.44324324324324327, 0.5777777777777778]\n",
    "five = [0.39743589743589747, 0.67, 0.5494505494505495]\n",
    "six = [0.5964912280701753, 0.6185567010309279, 0.6851851851851852]\n",
    "seven = [0.6974358974358974, 0.6256410256410256, 0.5524861878453038]\n",
    "eight = [0.44171779141104295, 0.4831460674157303, 0.430939226519337]\n",
    "err = [np.std(one), np.std(two), np.std(three), np.std(four), np.std(five), np.std(six), np.std(seven), np.std(eight)]\n",
    "print(err)"
   ]
  },
  {
   "cell_type": "code",
   "execution_count": 10,
   "id": "044a4349-2674-404c-9561-7cda28f93876",
   "metadata": {},
   "outputs": [
    {
     "data": {
      "image/png": "[encoded data removed]",
      "text/plain": [
       "<Figure size 432x288 with 1 Axes>"
      ]
     },
     "metadata": {
      "needs_background": "light"
     },
     "output_type": "display_data"
    }
   ],
   "source": [
    "#fig = plt.figure()\n",
    "#fig = plt.figure(figsize = (10, 5))\n",
    "fig = plt.figure()\n",
    "ax = fig.add_axes([1,1,1,1])\n",
    "ax.set_xlabel('C regularization parameter value')\n",
    "ax.set_ylabel('f1 score')\n",
    "ax.set_title('C parameter affect on f1 score')\n",
    "plt.bar(x, y, color ='maroon', width = 0.4)\n",
    "#langs = ['C', 'C++', 'Java', 'Python', 'PHP']\n",
    "#students = [23,17,35,29,12]\n",
    "#ax.bar(x, y)\n",
    "plt.show()"
   ]
  },
  {
   "cell_type": "code",
   "execution_count": 6,
   "id": "92a0a407-4a57-4c88-ac38-9b33c0580e66",
   "metadata": {},
   "outputs": [
    {
     "data": {
      "text/plain": [
       "(array([2., 0., 2., 0., 1., 2., 0., 0., 0., 1.]),\n",
       " array([-0.02481856, -0.00329481,  0.01822894,  0.03975269,  0.06127644,\n",
       "         0.08280019,  0.10432394,  0.1258477 ,  0.14737145,  0.1688952 ,\n",
       "         0.19041895]),\n",
       " <BarContainer object of 10 artists>)"
      ]
     },
     "execution_count": 6,
     "metadata": {},
     "output_type": "execute_result"
    },
    {
     "data": {
      "image/png": "[encoded data removed]",
      "text/plain": [
       "<Figure size 432x288 with 1 Axes>"
      ]
     },
     "metadata": {
      "needs_background": "light"
     },
     "output_type": "display_data"
    }
   ],
   "source": [
    "y_m = [0.5831787553376713, 0.5206310382780971, 0.6483936316572979, 0.5594326721087285, 0.5389621489621494, 0.6334110380954295, 0.6251877036407423, 0.4519343617820368]\n",
    "y_s = [0.61640066, 0.60853735, 0.62357507, 0.63126092, 0.62292755, 0.62073473, 0.64779067, 0.64235331]\n",
    "y_m = np.array(y_m)\n",
    "y_s = np.array(y_s)\n",
    "y_diff = y_s - y_m\n",
    "plt.hist(y_diff)"
   ]
  },
  {
   "cell_type": "code",
   "execution_count": 9,
   "id": "80daaef7-f7b1-4e80-b130-a8e1cbafebe8",
   "metadata": {},
   "outputs": [
    {
     "name": "stdout",
     "output_type": "stream",
     "text": [
      "[ 0.0332219   0.08790631 -0.02481856  0.07182825  0.0839654  -0.01267631\n",
      "  0.02260297  0.19041895]\n"
     ]
    }
   ],
   "source": [
    "y_diff\n",
    "x = ['0.01', '0.1', '1', '10', '100', '1000', '100000', '1000000']\n",
    "print(y_diff)\n"
   ]
  },
  {
   "cell_type": "code",
   "execution_count": 7,
   "id": "def251de-0610-4707-96ff-e1c4e556dab3",
   "metadata": {},
   "outputs": [
    {
     "data": {
      "text/plain": [
       "<BarContainer object of 8 artists>"
      ]
     },
     "execution_count": 7,
     "metadata": {},
     "output_type": "execute_result"
    },
    {
     "data": {
      "image/png": "[encoded data removed]",
      "text/plain": [
       "<Figure size 432x288 with 1 Axes>"
      ]
     },
     "metadata": {
      "needs_background": "light"
     },
     "output_type": "display_data"
    }
   ],
   "source": [
    "fig = plt.figure()\n",
    "ax = fig.add_axes([1,1,1,1])\n",
    "ax.set_xlabel('C regularization parameter value')\n",
    "ax.set_ylabel('f1 score difference')\n",
    "ax.set_title('absolute difference at different iteration values of SVM vs SVC')\n",
    "plt.bar(x, y_diff, color='red')"
   ]
  },
  {
   "cell_type": "code",
   "execution_count": 12,
   "id": "6793c423-c1e9-4373-835a-e061f0374393",
   "metadata": {},
   "outputs": [
    {
     "name": "stdout",
     "output_type": "stream",
     "text": [
      "f1 score 1:  0.5398773006134969\n",
      "f1 score:  0.41379310344827586\n",
      "f1 score:  0.5056179775280899\n",
      "Average f1 0.4864294605299542\n",
      "f1 score 1:  0.382716049382716\n",
      "f1 score:  0.6069651741293532\n",
      "f1 score:  0.5363128491620112\n",
      "Average f1 0.5086646908913601\n",
      "f1 score 1:  0.379746835443038\n",
      "f1 score:  0.48888888888888893\n",
      "f1 score:  0.4640883977900552\n",
      "Average f1 0.4442413740406607\n",
      "f1 score 1:  0.40243902439024387\n",
      "f1 score:  0.4431137724550898\n",
      "f1 score:  0.5054945054945055\n",
      "Average f1 0.45034910077994644\n",
      "f1 score 1:  0.648936170212766\n",
      "f1 score:  0.5730994152046784\n",
      "f1 score:  0.47619047619047616\n",
      "Average f1 0.5660753538693069\n",
      "f1 score 1:  0.6171428571428572\n",
      "f1 score:  0.6413043478260869\n",
      "f1 score:  0.44047619047619047\n",
      "Average f1 0.5663077984817115\n"
     ]
    },
    {
     "name": "stderr",
     "output_type": "stream",
     "text": [
      "C:\\Users\\huntm\\AppData\\Local\\Temp\\ipykernel_16132\\1585163770.py:26: RuntimeWarning: overflow encountered in double_scalars\n",
      "  z = 2 * np.matmul(r, v) / (np.matmul(np.matmul(S, v), v) + 1E-10) #5 the + 1E-10 is to make sure the bottom doesn't accidently round to 0 and turn z into nan\n",
      "C:\\Users\\huntm\\AppData\\Local\\Temp\\ipykernel_16132\\1585163770.py:21: RuntimeWarning: overflow encountered in multiply\n",
      "  r = 1 - np.sum(self.ws * k[a], axis=1) #1\n",
      "C:\\Users\\huntm\\AppData\\Local\\Temp\\ipykernel_16132\\1585163770.py:26: RuntimeWarning: invalid value encountered in matmul\n",
      "  z = 2 * np.matmul(r, v) / (np.matmul(np.matmul(S, v), v) + 1E-10) #5 the + 1E-10 is to make sure the bottom doesn't accidently round to 0 and turn z into nan\n",
      "C:\\Users\\huntm\\AppData\\Local\\Temp\\ipykernel_16132\\1281216548.py:41: RuntimeWarning: invalid value encountered in true_divide\n",
      "  precision = (tp  * 100) / float(tp + fp) / 100\n",
      "C:\\Users\\huntm\\AppData\\Local\\Temp\\ipykernel_16132\\1281216548.py:42: RuntimeWarning: invalid value encountered in true_divide\n",
      "  recall = (tp  * 100) / float(tp + fn) / 100\n"
     ]
    },
    {
     "name": "stdout",
     "output_type": "stream",
     "text": [
      "f1 score 1:  nan\n"
     ]
    },
    {
     "ename": "KeyboardInterrupt",
     "evalue": "",
     "output_type": "error",
     "traceback": [
      "\u001b[1;31m---------------------------------------------------------------------------\u001b[0m",
      "\u001b[1;31mKeyboardInterrupt\u001b[0m                         Traceback (most recent call last)",
      "Input \u001b[1;32mIn [12]\u001b[0m, in \u001b[0;36m<cell line: 5>\u001b[1;34m()\u001b[0m\n\u001b[0;32m     44\u001b[0m \u001b[38;5;28mprint\u001b[39m(\u001b[38;5;124m\"\u001b[39m\u001b[38;5;124mf1 score 1: \u001b[39m\u001b[38;5;124m\"\u001b[39m, f1one) \n\u001b[0;32m     45\u001b[0m clf \u001b[38;5;241m=\u001b[39m SVM(limit\u001b[38;5;241m=\u001b[39mvals[i])\n\u001b[1;32m---> 46\u001b[0m \u001b[43mclf\u001b[49m\u001b[38;5;241;43m.\u001b[39;49m\u001b[43mfit\u001b[49m\u001b[43m(\u001b[49m\u001b[43mtrainx2\u001b[49m\u001b[43m,\u001b[49m\u001b[43m \u001b[49m\u001b[43mtrainy2\u001b[49m\u001b[43m)\u001b[49m\n\u001b[0;32m     47\u001b[0m predy2 \u001b[38;5;241m=\u001b[39m clf\u001b[38;5;241m.\u001b[39mpredict(testx2)\n\u001b[0;32m     48\u001b[0m tp \u001b[38;5;241m=\u001b[39m np\u001b[38;5;241m.\u001b[39msum((testy2 \u001b[38;5;241m==\u001b[39m \u001b[38;5;241m1\u001b[39m) \u001b[38;5;241m&\u001b[39m (predy2 \u001b[38;5;241m==\u001b[39m \u001b[38;5;241m1\u001b[39m))\n",
      "Input \u001b[1;32mIn [10]\u001b[0m, in \u001b[0;36mSVM.fit\u001b[1;34m(self, x, y)\u001b[0m\n\u001b[0;32m     19\u001b[0m m \u001b[38;5;241m=\u001b[39m [p, q]\n\u001b[0;32m     20\u001b[0m n \u001b[38;5;241m=\u001b[39m [a, a]\n\u001b[1;32m---> 21\u001b[0m r \u001b[38;5;241m=\u001b[39m \u001b[38;5;241m1\u001b[39m \u001b[38;5;241m-\u001b[39m np\u001b[38;5;241m.\u001b[39msum(\u001b[38;5;28mself\u001b[39m\u001b[38;5;241m.\u001b[39mws \u001b[38;5;241m*\u001b[39m \u001b[43mk\u001b[49m\u001b[43m[\u001b[49m\u001b[43ma\u001b[49m\u001b[43m]\u001b[49m, axis\u001b[38;5;241m=\u001b[39m\u001b[38;5;241m1\u001b[39m) \u001b[38;5;66;03m#1\u001b[39;00m\n\u001b[0;32m     22\u001b[0m S \u001b[38;5;241m=\u001b[39m k[m, n] \u001b[38;5;66;03m#2\u001b[39;00m\n\u001b[0;32m     23\u001b[0m u \u001b[38;5;241m=\u001b[39m \u001b[38;5;28mself\u001b[39m\u001b[38;5;241m.\u001b[39mws[a] \u001b[38;5;66;03m#3\u001b[39;00m\n",
      "\u001b[1;31mKeyboardInterrupt\u001b[0m: "
     ]
    }
   ],
   "source": [
    "#default max_iter for SVC is -1 which is no limit but that is a problem because we can not compare it with the tolerance used to a scratch implementation\n",
    "#Therefore we will use 7 different values for max_iter to test, 1, 10, 100, 1000, 10000, 100000, 1000000\n",
    "vals = [1, 10, 100, 1000, 10000, 100000, 1000000]\n",
    "avgs = []\n",
    "for i in range(len(vals)):\n",
    "    #reading in and randomizing the dataset\n",
    "    df = pd.read_csv(\"diabetes.csv\")\n",
    "    df = df.reindex(np.random.permutation(df.index))\n",
    "    df = df.reset_index(drop=True)  \n",
    "    #df\n",
    "    #creating the folds for k fold cross validation by splitting up data into three\n",
    "    fold1 = df.loc[0:255]                                            \n",
    "    fold2 = df.loc[256:511]\n",
    "    fold3 = df.loc[512:]\n",
    "    train1 = pd.concat([fold1, fold2])\n",
    "    test1 = fold3\n",
    "    trainx1 = np.array(train1[[\"Pregnancies\", \"Glucose\", \"SkinThickness\", \"Insulin\", \"BMI\", \"DiabetesPedigreeFunction\", \"Age\"]])\n",
    "    trainy1 = np.array(train1[\"Outcome\"])\n",
    "    testx1 = np.array(test1[[\"Pregnancies\", \"Glucose\", \"SkinThickness\", \"Insulin\", \"BMI\", \"DiabetesPedigreeFunction\", \"Age\"]])\n",
    "    testy1 = np.array(test1[\"Outcome\"])\n",
    "    train2 = pd.concat([fold1, fold3])\n",
    "    test2 = fold2\n",
    "    trainx2 = np.array(train2[[\"Pregnancies\", \"Glucose\", \"SkinThickness\", \"Insulin\", \"BMI\", \"DiabetesPedigreeFunction\", \"Age\"]])\n",
    "    trainy2 = np.array(train2[\"Outcome\"])\n",
    "    testx2 = np.array(test2[[\"Pregnancies\", \"Glucose\", \"SkinThickness\", \"Insulin\", \"BMI\", \"DiabetesPedigreeFunction\", \"Age\"]])\n",
    "    testy2 = np.array(test2[\"Outcome\"])\n",
    "    train3 = pd.concat([fold2, fold3])\n",
    "    test3 = fold1\n",
    "    trainx3 = np.array(train3[[\"Pregnancies\", \"Glucose\", \"SkinThickness\", \"Insulin\", \"BMI\", \"DiabetesPedigreeFunction\", \"Age\"]])\n",
    "    trainy3 = np.array(train3[\"Outcome\"])\n",
    "    testx3 = np.array(test3[[\"Pregnancies\", \"Glucose\", \"SkinThickness\", \"Insulin\", \"BMI\", \"DiabetesPedigreeFunction\", \"Age\"]])\n",
    "    testy3 = np.array(test3[\"Outcome\"])\n",
    "    #testing the Accuracy of each fold with one fold left out as test\n",
    "    clf = SVM(limit=vals[i])\n",
    "    clf.fit(trainx1, trainy1)\n",
    "    predy1 = clf.predict(testx1)\n",
    "    tp = np.sum((testy1 == 1) & (predy1 == 1))\n",
    "    tn = np.sum((testy1 == 0) & (predy1 == 0))\n",
    "    fn = np.sum((testy1 == 1) & (predy1 == 0))\n",
    "    fp = np.sum((testy1 == 0) & (predy1 == 1))\n",
    "    precision = (tp  * 100) / float(tp + fp) / 100\n",
    "    recall = (tp  * 100) / float(tp + fn) / 100\n",
    "    f1one = (2*precision*recall) / (precision + recall)\n",
    "    print(\"f1 score 1: \", f1one) \n",
    "    clf = SVM(limit=vals[i])\n",
    "    clf.fit(trainx2, trainy2)\n",
    "    predy2 = clf.predict(testx2)\n",
    "    tp = np.sum((testy2 == 1) & (predy2 == 1))\n",
    "    tn = np.sum((testy2 == 0) & (predy2 == 0))\n",
    "    fn = np.sum((testy2 == 1) & (predy2 == 0))\n",
    "    fp = np.sum((testy2 == 0) & (predy2 == 1))\n",
    "    precision = (tp  * 100) / float(tp + fp) / 100\n",
    "    recall = (tp  * 100) / float(tp + fn) / 100\n",
    "    f1two = (2*precision*recall) / (precision + recall)\n",
    "    print(\"f1 score: \", f1two) \n",
    "    clf = SVM(limit=vals[i])\n",
    "    clf.fit(trainx3, trainy3)\n",
    "    predy3 = clf.predict(testx3)\n",
    "    tp = np.sum((testy3 == 1) & (predy3 == 1))\n",
    "    tn = np.sum((testy3 == 0) & (predy3 == 0))\n",
    "    fn = np.sum((testy3 == 1) & (predy3 == 0))\n",
    "    fp = np.sum((testy3 == 0) & (predy3 == 1))\n",
    "    precision = (tp  * 100) / float(tp + fp) / 100\n",
    "    recall = (tp  * 100) / float(tp + fn) / 100\n",
    "    f1three = (2*precision*recall) / (precision + recall)\n",
    "    print(\"f1 score: \", f1three)\n",
    "    avg = (f1one + f1two + f1three) / 3\n",
    "    print(\"Average f1\", avg)\n",
    "    avgs.append([vals[i], avg])\n",
    "    \n",
    "print(\"avgs are: \", avgs) "
   ]
  },
  {
   "cell_type": "code",
   "execution_count": 6,
   "id": "702adae5-348a-4a8a-abcb-e6202513b7fb",
   "metadata": {},
   "outputs": [
    {
     "data": {
      "image/png": "[encoded data removed]",
      "text/plain": [
       "<Figure size 432x288 with 1 Axes>"
      ]
     },
     "metadata": {
      "needs_background": "light"
     },
     "output_type": "display_data"
    }
   ],
   "source": [
    "x = ['1', '10', '100', '1000', '10000', '100000', '1000000']\n",
    "y = [0.4864294605299542, 0.5086646908913601, 0.4442413740406607, 0.45034910077994644, 0.5660753538693069, 0.5663077984817115, 0]\n",
    "fig = plt.figure()\n",
    "ax = fig.add_axes([0,0,1,1])\n",
    "#fig = plt.figure(figsize = (10, 5))\n",
    "#plt.bar(x, y, color ='maroon', width = 0.4)\n",
    "#langs = ['C', 'C++', 'Java', 'Python', 'PHP']\n",
    "#students = [23,17,35,29,12]\n",
    "ax.set_xlabel('limit value')\n",
    "ax.set_ylabel('f1 score')\n",
    "ax.set_title('average iteration limit effect of how long the algorithm runs on f1 score')\n",
    "ax.bar(x, y, color='green')\n",
    "plt.errorbar(x, y, yerr = err, fmt ='o')\n",
    "plt.show()"
   ]
  },
  {
   "cell_type": "code",
   "execution_count": 5,
   "id": "534131f6-698a-4484-afe4-28c557d7b742",
   "metadata": {},
   "outputs": [
    {
     "name": "stdout",
     "output_type": "stream",
     "text": [
      "[0.05323191763181429, 0.09361350678624479, 0.046714917113458994, 0.042382154486560804, 0.07069781599192881, 0.08952146702681722, 0]\n"
     ]
    }
   ],
   "source": [
    "one = [0.5398773006134969, 0.41379310344827586, 0.5056179775280899]\n",
    "two = [0.382716049382716, 0.6069651741293532, 0.5363128491620112]\n",
    "three = [0.379746835443038, 0.48888888888888893, 0.4640883977900552]\n",
    "four = [0.40243902439024387, 0.4431137724550898, 0.5054945054945055]\n",
    "five = [0.648936170212766, 0.5730994152046784, 0.47619047619047616]\n",
    "six = [0.6171428571428572, 0.6413043478260869, 0.44047619047619047]\n",
    "err = [np.std(one), np.std(two), np.std(three), np.std(four), np.std(five), np.std(six), 0]\n",
    "print(err)"
   ]
  },
  {
   "cell_type": "code",
   "execution_count": 14,
   "id": "aa2384c6-a081-4044-a366-ff8300d8c1f3",
   "metadata": {},
   "outputs": [
    {
     "data": {
      "text/plain": [
       "(array([1., 3., 1., 0., 1., 0., 0., 0., 0., 1.]),\n",
       " array([-0.21601351, -0.13410411, -0.05219471,  0.02971469,  0.11162408,\n",
       "         0.19353348,  0.27544288,  0.35735228,  0.43926168,  0.52117108,\n",
       "         0.60308047]),\n",
       " <BarContainer object of 10 artists>)"
      ]
     },
     "execution_count": 14,
     "metadata": {},
     "output_type": "execute_result"
    },
    {
     "data": {
      "image/png": "[encoded data removed]",
      "text/plain": [
       "<Figure size 432x288 with 1 Axes>"
      ]
     },
     "metadata": {
      "needs_background": "light"
     },
     "output_type": "display_data"
    }
   ],
   "source": [
    "y_m = [0.4864294605299542, 0.5086646908913601, 0.4442413740406607, 0.45034910077994644, 0.5660753538693069, 0.5663077984817115, 0]\n",
    "y_s = [0.38233458784099694, 0.5314127547427647, 0.5738456337934196, 0.3724135336612265, 0.350061843750248, 0.47394752886224234,  0.6030804745949634]\n",
    "y_m = np.array(y_m)\n",
    "y_s = np.array(y_s)\n",
    "y_diff = y_s - y_m\n",
    "plt.hist(y_diff)"
   ]
  },
  {
   "cell_type": "code",
   "execution_count": 16,
   "id": "7078dd60-e4d3-4fcf-8b6b-b74a9d22d6b5",
   "metadata": {},
   "outputs": [
    {
     "data": {
      "text/plain": [
       "<BarContainer object of 7 artists>"
      ]
     },
     "execution_count": 16,
     "metadata": {},
     "output_type": "execute_result"
    },
    {
     "data": {
      "image/png": "[encoded data removed]",
      "text/plain": [
       "<Figure size 432x288 with 1 Axes>"
      ]
     },
     "metadata": {
      "needs_background": "light"
     },
     "output_type": "display_data"
    }
   ],
   "source": [
    "fig = plt.figure()\n",
    "ax = fig.add_axes([1,1,1,1])\n",
    "ax.set_xlabel('max iteration value')\n",
    "ax.set_ylabel('f1 score difference')\n",
    "ax.set_title('absolute difference at different iteration values of SVM vs SVC')\n",
    "plt.bar(x, y_diff, color='red')"
   ]
  },
  {
   "cell_type": "code",
   "execution_count": 3,
   "id": "fbfaadc3-957c-4c2c-a236-7750197951b6",
   "metadata": {},
   "outputs": [
    {
     "name": "stdout",
     "output_type": "stream",
     "text": [
      "0.0620861592800763\n",
      "0.18203799981434246\n"
     ]
    }
   ],
   "source": [
    "C_vals = [0.5831787553376713, 0.5206310382780971, 0.6483936316572979, 0.5594326721087285, 0.5389621489621494, 0.6334110380954295, 0.6251877036407423, 0.4519343617820368]\n",
    "iter_vals = [0.4864294605299542, 0.5086646908913601, 0.4442413740406607, 0.45034910077994644, 0.5660753538693069, 0.5663077984817115, 0]\n",
    "C_std_dev = np.std(C_vals)\n",
    "print(C_std_dev)\n",
    "iter_std_dev = np.std(iter_vals)\n",
    "print(iter_std_dev)"
   ]
  },
  {
   "cell_type": "code",
   "execution_count": null,
   "id": "4d1edacc-10f8-4325-a11a-039d771188ee",
   "metadata": {},
   "outputs": [],
   "source": []
  }
 ],
 "metadata": {
  "kernelspec": {
   "display_name": "Python 3 (ipykernel)",
   "language": "python",
   "name": "python3"
  },
  "language_info": {
   "codemirror_mode": {
    "name": "ipython",
    "version": 3
   },
   "file_extension": ".py",
   "mimetype": "text/x-python",
   "name": "python",
   "nbconvert_exporter": "python",
   "pygments_lexer": "ipython3",
   "version": "3.7.12"
  }
 },
 "nbformat": 4,
 "nbformat_minor": 5
}
